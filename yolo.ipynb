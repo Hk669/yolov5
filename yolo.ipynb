{
 "cells": [
  {
   "cell_type": "markdown",
   "metadata": {},
   "source": [
    "### INSTALL DEPENDENCIES"
   ]
  },
  {
   "cell_type": "code",
   "execution_count": null,
   "metadata": {},
   "outputs": [],
   "source": [
    "! git clone https://github.com/ultralytics/yolov5"
   ]
  },
  {
   "cell_type": "code",
   "execution_count": 5,
   "metadata": {},
   "outputs": [
    {
     "name": "stdout",
     "output_type": "stream",
     "text": [
      "Requirement already satisfied: gitpython>=3.1.30 in c:\\users\\hrush\\anaconda3\\lib\\site-packages (from -r requirements.txt (line 5)) (3.1.31)\n",
      "Requirement already satisfied: matplotlib>=3.3 in c:\\users\\hrush\\anaconda3\\lib\\site-packages (from -r requirements.txt (line 6)) (3.5.2)\n",
      "Requirement already satisfied: numpy>=1.22.2 in c:\\users\\hrush\\anaconda3\\lib\\site-packages (from -r requirements.txt (line 7)) (1.23.5)\n",
      "Requirement already satisfied: opencv-python>=4.1.1 in c:\\users\\hrush\\anaconda3\\lib\\site-packages (from -r requirements.txt (line 8)) (4.7.0.72)\n",
      "Requirement already satisfied: Pillow>=7.1.2 in c:\\users\\hrush\\anaconda3\\lib\\site-packages (from -r requirements.txt (line 9)) (9.2.0)\n",
      "Requirement already satisfied: psutil in c:\\users\\hrush\\anaconda3\\lib\\site-packages (from -r requirements.txt (line 10)) (5.9.0)\n",
      "Requirement already satisfied: PyYAML>=5.3.1 in c:\\users\\hrush\\anaconda3\\lib\\site-packages (from -r requirements.txt (line 11)) (6.0)\n",
      "Requirement already satisfied: requests>=2.23.0 in c:\\users\\hrush\\anaconda3\\lib\\site-packages (from -r requirements.txt (line 12)) (2.28.1)\n",
      "Requirement already satisfied: scipy>=1.4.1 in c:\\users\\hrush\\anaconda3\\lib\\site-packages (from -r requirements.txt (line 13)) (1.9.1)\n",
      "Collecting thop>=0.1.1\n",
      "  Downloading thop-0.1.1.post2209072238-py3-none-any.whl (15 kB)\n",
      "Requirement already satisfied: torch>=1.8.0 in c:\\users\\hrush\\anaconda3\\lib\\site-packages (from -r requirements.txt (line 15)) (1.8.1+cu111)\n",
      "Requirement already satisfied: torchvision>=0.9.0 in c:\\users\\hrush\\anaconda3\\lib\\site-packages (from -r requirements.txt (line 16)) (0.15.2)\n",
      "Requirement already satisfied: tqdm>=4.64.0 in c:\\users\\hrush\\anaconda3\\lib\\site-packages (from -r requirements.txt (line 17)) (4.65.0)\n",
      "Collecting ultralytics>=8.0.147\n",
      "  Downloading ultralytics-8.0.157-py3-none-any.whl (611 kB)\n",
      "     -------------------------------------- 611.8/611.8 kB 9.7 MB/s eta 0:00:00\n",
      "Requirement already satisfied: pandas>=1.1.4 in c:\\users\\hrush\\anaconda3\\lib\\site-packages (from -r requirements.txt (line 27)) (1.4.4)\n",
      "Requirement already satisfied: seaborn>=0.11.0 in c:\\users\\hrush\\anaconda3\\lib\\site-packages (from -r requirements.txt (line 28)) (0.11.2)\n",
      "Collecting setuptools>=65.5.1\n",
      "  Downloading setuptools-68.1.0-py3-none-any.whl (805 kB)\n",
      "     -------------------------------------- 805.2/805.2 kB 7.3 MB/s eta 0:00:00\n",
      "Requirement already satisfied: gitdb<5,>=4.0.1 in c:\\users\\hrush\\anaconda3\\lib\\site-packages (from gitpython>=3.1.30->-r requirements.txt (line 5)) (4.0.10)\n",
      "Requirement already satisfied: cycler>=0.10 in c:\\users\\hrush\\anaconda3\\lib\\site-packages (from matplotlib>=3.3->-r requirements.txt (line 6)) (0.11.0)\n",
      "Requirement already satisfied: fonttools>=4.22.0 in c:\\users\\hrush\\anaconda3\\lib\\site-packages (from matplotlib>=3.3->-r requirements.txt (line 6)) (4.25.0)\n",
      "Requirement already satisfied: pyparsing>=2.2.1 in c:\\users\\hrush\\anaconda3\\lib\\site-packages (from matplotlib>=3.3->-r requirements.txt (line 6)) (3.0.9)\n",
      "Requirement already satisfied: python-dateutil>=2.7 in c:\\users\\hrush\\anaconda3\\lib\\site-packages (from matplotlib>=3.3->-r requirements.txt (line 6)) (2.8.2)\n",
      "Requirement already satisfied: kiwisolver>=1.0.1 in c:\\users\\hrush\\anaconda3\\lib\\site-packages (from matplotlib>=3.3->-r requirements.txt (line 6)) (1.4.2)\n",
      "Requirement already satisfied: packaging>=20.0 in c:\\users\\hrush\\anaconda3\\lib\\site-packages (from matplotlib>=3.3->-r requirements.txt (line 6)) (21.3)\n",
      "Requirement already satisfied: urllib3<1.27,>=1.21.1 in c:\\users\\hrush\\anaconda3\\lib\\site-packages (from requests>=2.23.0->-r requirements.txt (line 12)) (1.26.11)\n",
      "Requirement already satisfied: certifi>=2017.4.17 in c:\\users\\hrush\\anaconda3\\lib\\site-packages (from requests>=2.23.0->-r requirements.txt (line 12)) (2022.9.14)\n",
      "Requirement already satisfied: idna<4,>=2.5 in c:\\users\\hrush\\anaconda3\\lib\\site-packages (from requests>=2.23.0->-r requirements.txt (line 12)) (3.3)\n",
      "Requirement already satisfied: charset-normalizer<3,>=2 in c:\\users\\hrush\\anaconda3\\lib\\site-packages (from requests>=2.23.0->-r requirements.txt (line 12)) (2.0.4)\n",
      "Requirement already satisfied: typing-extensions in c:\\users\\hrush\\anaconda3\\lib\\site-packages (from torch>=1.8.0->-r requirements.txt (line 15)) (4.7.1)\n",
      "Collecting torch>=1.8.0\n",
      "  Downloading torch-2.0.1-cp39-cp39-win_amd64.whl (172.4 MB)\n",
      "     -------------------------------------- 172.4/172.4 MB 4.4 MB/s eta 0:00:00\n",
      "Requirement already satisfied: networkx in c:\\users\\hrush\\anaconda3\\lib\\site-packages (from torch>=1.8.0->-r requirements.txt (line 15)) (2.8.4)\n",
      "Requirement already satisfied: filelock in c:\\users\\hrush\\anaconda3\\lib\\site-packages (from torch>=1.8.0->-r requirements.txt (line 15)) (3.6.0)\n",
      "Requirement already satisfied: sympy in c:\\users\\hrush\\anaconda3\\lib\\site-packages (from torch>=1.8.0->-r requirements.txt (line 15)) (1.10.1)\n",
      "Requirement already satisfied: jinja2 in c:\\users\\hrush\\anaconda3\\lib\\site-packages (from torch>=1.8.0->-r requirements.txt (line 15)) (2.11.3)\n",
      "Requirement already satisfied: colorama in c:\\users\\hrush\\anaconda3\\lib\\site-packages (from tqdm>=4.64.0->-r requirements.txt (line 17)) (0.4.5)\n",
      "Collecting py-cpuinfo\n",
      "  Downloading py_cpuinfo-9.0.0-py3-none-any.whl (22 kB)\n",
      "Requirement already satisfied: pytz>=2020.1 in c:\\users\\hrush\\anaconda3\\lib\\site-packages (from pandas>=1.1.4->-r requirements.txt (line 27)) (2022.1)\n",
      "Requirement already satisfied: smmap<6,>=3.0.1 in c:\\users\\hrush\\anaconda3\\lib\\site-packages (from gitdb<5,>=4.0.1->gitpython>=3.1.30->-r requirements.txt (line 5)) (5.0.0)\n",
      "Requirement already satisfied: six>=1.5 in c:\\users\\hrush\\anaconda3\\lib\\site-packages (from python-dateutil>=2.7->matplotlib>=3.3->-r requirements.txt (line 6)) (1.16.0)\n",
      "Requirement already satisfied: MarkupSafe>=0.23 in c:\\users\\hrush\\anaconda3\\lib\\site-packages (from jinja2->torch>=1.8.0->-r requirements.txt (line 15)) (2.0.1)\n",
      "Requirement already satisfied: mpmath>=0.19 in c:\\users\\hrush\\anaconda3\\lib\\site-packages (from sympy->torch>=1.8.0->-r requirements.txt (line 15)) (1.2.1)\n",
      "Installing collected packages: py-cpuinfo, setuptools, torch, thop, ultralytics\n",
      "  Attempting uninstall: setuptools\n",
      "    Found existing installation: setuptools 63.4.1\n",
      "    Uninstalling setuptools-63.4.1:\n",
      "      Successfully uninstalled setuptools-63.4.1\n",
      "  Attempting uninstall: torch\n",
      "    Found existing installation: torch 1.8.1+cu111\n",
      "    Uninstalling torch-1.8.1+cu111:\n",
      "      Successfully uninstalled torch-1.8.1+cu111\n",
      "Successfully installed py-cpuinfo-9.0.0 setuptools-68.1.0 thop-0.1.1.post2209072238 torch-2.0.1 ultralytics-8.0.157\n"
     ]
    },
    {
     "name": "stderr",
     "output_type": "stream",
     "text": [
      "ERROR: pip's dependency resolver does not currently take into account all the packages that are installed. This behaviour is the source of the following dependency conflicts.\n",
      "spyder 5.2.2 requires pyqt5<5.13, which is not installed.\n",
      "spyder 5.2.2 requires pyqtwebengine<5.13, which is not installed.\n",
      "conda-repo-cli 1.0.41 requires requests_mock, which is not installed.\n",
      "anaconda-project 0.11.1 requires ruamel-yaml, which is not installed.\n",
      "numba 0.55.1 requires numpy<1.22,>=1.18, but you have numpy 1.23.5 which is incompatible.\n",
      "conda-repo-cli 1.0.41 requires clyent==1.2.1, but you have clyent 1.2.2 which is incompatible.\n",
      "conda-repo-cli 1.0.41 requires nbformat==5.4.0, but you have nbformat 5.5.0 which is incompatible.\n"
     ]
    }
   ],
   "source": [
    "! cd yolov5 & pip install -r requirements.txt"
   ]
  },
  {
   "cell_type": "code",
   "execution_count": 2,
   "metadata": {},
   "outputs": [],
   "source": [
    "import torch\n",
    "import matplotlib.pyplot as plt\n",
    "import numpy as np\n",
    "import cv2"
   ]
  },
  {
   "cell_type": "code",
   "execution_count": 6,
   "metadata": {},
   "outputs": [],
   "source": [
    "import uuid  #unique identifier\n",
    "import os\n",
    "import time"
   ]
  },
  {
   "cell_type": "code",
   "execution_count": 11,
   "metadata": {},
   "outputs": [],
   "source": [
    "IMAGES_PATH = os.path.join('data','images')\n",
    "labels = ['cap', 'withoutcap']\n",
    "number_images = 20"
   ]
  },
  {
   "cell_type": "markdown",
   "metadata": {},
   "source": [
    "### COLLECT IMAGES FROM WEBCAM"
   ]
  },
  {
   "cell_type": "code",
   "execution_count": 12,
   "metadata": {},
   "outputs": [
    {
     "name": "stdout",
     "output_type": "stream",
     "text": [
      "Collecting images for cap\n",
      "Collecting images for cap, image number 0\n",
      "Collecting images for cap, image number 1\n",
      "Collecting images for cap, image number 2\n",
      "Collecting images for cap, image number 3\n",
      "Collecting images for cap, image number 4\n",
      "Collecting images for cap, image number 5\n",
      "Collecting images for cap, image number 6\n",
      "Collecting images for cap, image number 7\n",
      "Collecting images for cap, image number 8\n",
      "Collecting images for cap, image number 9\n",
      "Collecting images for cap, image number 10\n",
      "Collecting images for cap, image number 11\n",
      "Collecting images for cap, image number 12\n",
      "Collecting images for cap, image number 13\n",
      "Collecting images for cap, image number 14\n",
      "Collecting images for cap, image number 15\n",
      "Collecting images for cap, image number 16\n",
      "Collecting images for cap, image number 17\n",
      "Collecting images for cap, image number 18\n",
      "Collecting images for cap, image number 19\n",
      "Collecting images for withoutcap\n",
      "Collecting images for withoutcap, image number 0\n",
      "Collecting images for withoutcap, image number 1\n",
      "Collecting images for withoutcap, image number 2\n",
      "Collecting images for withoutcap, image number 3\n",
      "Collecting images for withoutcap, image number 4\n",
      "Collecting images for withoutcap, image number 5\n",
      "Collecting images for withoutcap, image number 6\n",
      "Collecting images for withoutcap, image number 7\n",
      "Collecting images for withoutcap, image number 8\n",
      "Collecting images for withoutcap, image number 9\n",
      "Collecting images for withoutcap, image number 10\n",
      "Collecting images for withoutcap, image number 11\n",
      "Collecting images for withoutcap, image number 12\n",
      "Collecting images for withoutcap, image number 13\n",
      "Collecting images for withoutcap, image number 14\n",
      "Collecting images for withoutcap, image number 15\n",
      "Collecting images for withoutcap, image number 16\n",
      "Collecting images for withoutcap, image number 17\n",
      "Collecting images for withoutcap, image number 18\n",
      "Collecting images for withoutcap, image number 19\n"
     ]
    }
   ],
   "source": [
    "# Capturing the images for training the yolo model\n",
    "\n",
    "cap = cv2.VideoCapture(0)\n",
    "# loop through labels\n",
    "for label in labels:\n",
    "    print('Collecting images for {}'.format(label))\n",
    "    time.sleep(5)\n",
    "\n",
    "    # loop through images\n",
    "    for img_num in range(number_images):\n",
    "        print('Collecting images for {}, image number {}'.format(label,img_num))\n",
    "\n",
    "        # webcam feed\n",
    "        ret, frame = cap.read()\n",
    "\n",
    "        # naming out image path\n",
    "        imgname = os.path.join(IMAGES_PATH, label+'.'+str(uuid.uuid1())+'.jpg')\n",
    "\n",
    "        # writes image to file\n",
    "        cv2.imwrite(imgname, frame)\n",
    "        \n",
    "        # render to the screen\n",
    "        cv2.imshow('Image collection', frame)\n",
    "        time.sleep(2)\n",
    "        if cv2.waitKey(10) & 0xFF == ord('q'):\n",
    "            break\n",
    "cap.release()\n",
    "cv2.destroyAllWindows()\n"
   ]
  },
  {
   "cell_type": "markdown",
   "metadata": {},
   "source": [
    "### TO LABEL THE DATA"
   ]
  },
  {
   "cell_type": "code",
   "execution_count": 13,
   "metadata": {},
   "outputs": [
    {
     "name": "stderr",
     "output_type": "stream",
     "text": [
      "Cloning into 'labelImg'...\n"
     ]
    }
   ],
   "source": [
    "# for data labeling\n",
    "! git clone https://github.com/tzutalin/labelImg"
   ]
  },
  {
   "cell_type": "code",
   "execution_count": null,
   "metadata": {},
   "outputs": [],
   "source": [
    "! pip install pyqt5 lxml --upgrade\n",
    "! cd labelImg && pyrcc5 -o libs/resources.py resources.qrc"
   ]
  },
  {
   "cell_type": "markdown",
   "metadata": {},
   "source": [
    "### TRAINING THE MODEL WITH CAP AND WITHOUT CAP DATA"
   ]
  },
  {
   "cell_type": "code",
   "execution_count": 16,
   "metadata": {},
   "outputs": [
    {
     "name": "stdout",
     "output_type": "stream",
     "text": [
      "^C\n"
     ]
    }
   ],
   "source": [
    "!cd yolov5 && python train.py --img 320 --batch 16 --epochs 50 --data dataset.yml --weights yolov5s.pt --workers 2\n"
   ]
  },
  {
   "cell_type": "code",
   "execution_count": 4,
   "metadata": {},
   "outputs": [
    {
     "name": "stderr",
     "output_type": "stream",
     "text": [
      "Downloading: \"https://github.com/ultralytics/yolov5/zipball/master\" to C:\\Users\\hrush/.cache\\torch\\hub\\master.zip\n",
      "YOLOv5  2023-8-18 Python-3.9.13 torch-2.0.1+cpu CPU\n",
      "\n",
      "Fusing layers... \n",
      "Model summary: 157 layers, 7055974 parameters, 0 gradients, 15.9 GFLOPs\n",
      "Adding AutoShape... \n"
     ]
    }
   ],
   "source": [
    "model = torch.hub.load('ultralytics/yolov5', 'custom', path='yolov5/runs/train/exp/weights/last.pt', force_reload=True)"
   ]
  },
  {
   "cell_type": "code",
   "execution_count": 7,
   "metadata": {},
   "outputs": [],
   "source": [
    "img = os.path.join('data', 'images', 'cap.8ea073db-3d25-11ee-950e-346f24c688f6.jpg')"
   ]
  },
  {
   "cell_type": "code",
   "execution_count": 8,
   "metadata": {},
   "outputs": [],
   "source": [
    "results = model(img)"
   ]
  },
  {
   "cell_type": "code",
   "execution_count": 9,
   "metadata": {},
   "outputs": [
    {
     "name": "stderr",
     "output_type": "stream",
     "text": [
      "image 1/1: 480x640 (no detections)\n",
      "Speed: 18.1ms pre-process, 257.1ms inference, 0.0ms NMS per image at shape (1, 3, 480, 640)\n"
     ]
    }
   ],
   "source": [
    "results.print()"
   ]
  },
  {
   "cell_type": "markdown",
   "metadata": {},
   "source": [
    "### TESTING THE MODEL"
   ]
  },
  {
   "cell_type": "code",
   "execution_count": null,
   "metadata": {},
   "outputs": [],
   "source": [
    "cap = cv2.VideoCapture(0)\n",
    "while cap.isOpened():\n",
    "    ret, frame = cap.read()\n",
    "\n",
    "    results = model(frame)\n",
    "\n",
    "    cv2.imshow('YOLO', np.squeeze(results.render()))\n",
    "\n",
    "    if cv2.waitKey(10) & 0xFF == ord('q'):\n",
    "        break\n",
    "cap.release()\n",
    "cv2.destroyAllWindows()"
   ]
  }
 ],
 "metadata": {
  "kernelspec": {
   "display_name": "base",
   "language": "python",
   "name": "python3"
  },
  "language_info": {
   "codemirror_mode": {
    "name": "ipython",
    "version": 3
   },
   "file_extension": ".py",
   "mimetype": "text/x-python",
   "name": "python",
   "nbconvert_exporter": "python",
   "pygments_lexer": "ipython3",
   "version": "3.9.13"
  },
  "orig_nbformat": 4
 },
 "nbformat": 4,
 "nbformat_minor": 2
}
